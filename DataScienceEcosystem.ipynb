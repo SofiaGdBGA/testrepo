{
 "cells": [
  {
   "cell_type": "markdown",
   "id": "6e5dcf88",
   "metadata": {},
   "source": [
    "# Data Science Tools and Ecosystem"
   ]
  },
  {
   "cell_type": "markdown",
   "id": "590ce08c",
   "metadata": {},
   "source": [
    "In this notebook, Data Science Tools and Ecosystem are summarized.\n"
   ]
  },
  {
   "cell_type": "markdown",
   "id": "41bc01a2",
   "metadata": {},
   "source": [
    "Some of the popular languages that Data Scientists use are:\n",
    "1. Python\n",
    "2. R\n",
    "3. Julia\n",
    "4. Scala\n",
    "5. SQL\n",
    "6. Java\n",
    "7. C++\n"
   ]
  },
  {
   "cell_type": "markdown",
   "id": "970a1570",
   "metadata": {},
   "source": [
    "Some of the commonly used libraries used by Data Scientists include:\n",
    "1. TensorFlow\n",
    "2. PyTorch\n",
    "3. Pandas\n",
    "4. ggplot\n"
   ]
  },
  {
   "cell_type": "markdown",
   "id": "16048511",
   "metadata": {},
   "source": [
    "| Data Science Tools |\n",
    "| ------------------ |\n",
    "| JupyterLab |\n",
    "| Anaconda |\n",
    "| VSCode |"
   ]
  },
  {
   "cell_type": "markdown",
   "id": "a06dd14f",
   "metadata": {},
   "source": [
    "### Below are a few examples of evaluating arithmetic expressions in Python."
   ]
  },
  {
   "cell_type": "code",
   "execution_count": 1,
   "id": "1cc25a63",
   "metadata": {},
   "outputs": [
    {
     "data": {
      "text/plain": [
       "17"
      ]
     },
     "execution_count": 1,
     "metadata": {},
     "output_type": "execute_result"
    }
   ],
   "source": [
    "# This a simple arithmetic expression to mutiply then add integers\n",
    "(3*4)+5"
   ]
  },
  {
   "cell_type": "code",
   "execution_count": 5,
   "id": "3b99d20f",
   "metadata": {},
   "outputs": [
    {
     "name": "stdout",
     "output_type": "stream",
     "text": [
      "200 minutes is 3 hours and 20 minutes\n"
     ]
    }
   ],
   "source": [
    "# This will convert 200 minutes to hours by diving by 60\n",
    "hours = 200 // 60\n",
    "mins = 200 % 60\n",
    "print(\"200 minutes is\", hours, \"hours and\", mins, \"minutes\")"
   ]
  },
  {
   "cell_type": "markdown",
   "id": "754b91b1",
   "metadata": {},
   "source": [
    "Objectives:\n",
    "- List data science languages\n",
    "- List data science libraries\n",
    "- List data science tools"
   ]
  },
  {
   "cell_type": "markdown",
   "id": "c37da39b",
   "metadata": {},
   "source": [
    "## Author\n",
    "Sofia Garcia de Blas Garcia-Alcaide"
   ]
  },
  {
   "cell_type": "code",
   "execution_count": null,
   "id": "2e86c226",
   "metadata": {},
   "outputs": [],
   "source": []
  }
 ],
 "metadata": {
  "kernelspec": {
   "display_name": "Python 3 (ipykernel)",
   "language": "python",
   "name": "python3"
  },
  "language_info": {
   "codemirror_mode": {
    "name": "ipython",
    "version": 3
   },
   "file_extension": ".py",
   "mimetype": "text/x-python",
   "name": "python",
   "nbconvert_exporter": "python",
   "pygments_lexer": "ipython3",
   "version": "3.10.9"
  }
 },
 "nbformat": 4,
 "nbformat_minor": 5
}
